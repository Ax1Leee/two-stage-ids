{
 "cells": [
  {
   "cell_type": "code",
   "execution_count": null,
   "id": "c53c6d26-d7ec-416c-941e-b6e0fc3c5e3b",
   "metadata": {},
   "outputs": [],
   "source": [
    "import pandas as pd\n",
    "\n",
    "def read_dataset(dataset):\n",
    "    df = pd.read_csv(dataset)\n",
    "\n",
    "    print(dataset + \" ok!\")\n",
    "    return df\n",
    "\n",
    "df_Spoofing = read_dataset(\"Spoofing_dataset.csv\")"
   ]
  },
  {
   "cell_type": "code",
   "execution_count": null,
   "id": "e70530ac-ab66-456d-8639-5ba69a737be1",
   "metadata": {},
   "outputs": [],
   "source": [
    "dataset = \"Replaying_dataset.csv\"\n",
    "df_Replaying = df_Spoofing.copy()\n",
    "\n",
    "# 重放攻击\n",
    "new_row = df_Replaying.loc[(df_Replaying[\"ID\"] == \"0316\") & (df_Replaying[\"Flag\"] == 'R')].iloc[0]\n",
    "df_Replaying.loc[(df_Replaying[\"ID\"] == \"0316\") & (df_Replaying[\"Flag\"] == 'T'), [\"ID\", \"DLC\", \"DATA[0]\",\"DATA[1]\",\"DATA[2]\",\"DATA[3]\",\"DATA[4]\",\"DATA[5]\",\"DATA[6]\",\"DATA[7]\"]] = new_row[[\"ID\", \"DLC\", \"DATA[0]\",\"DATA[1]\",\"DATA[2]\",\"DATA[3]\",\"DATA[4]\",\"DATA[5]\",\"DATA[6]\",\"DATA[7]\"]].values\n",
    "\n",
    "# 保存\n",
    "df_Replaying.to_csv(dataset, index=False)\n",
    "print(dataset + \" ok!\")"
   ]
  },
  {
   "cell_type": "code",
   "execution_count": null,
   "id": "2a0f7fe4-0081-4682-bfce-6d9da51703f4",
   "metadata": {},
   "outputs": [],
   "source": [
    "dataset = \"Drop_dataset.csv\"\n",
    "df_Drop = df_Spoofing.loc[df_Spoofing[\"Flag\"] == 'R'].copy().reset_index(drop=True)\n",
    "\n",
    "# 丢弃攻击\n",
    "for i in range(df_Drop.shape[0] // 10000):\n",
    "    selected_rows = df_Drop.iloc[i * 10000 + 9000 : i * 10000 + 10000]\n",
    "    selected_rows.loc[selected_rows[\"ID\"] == \"0316\", \"Flag\"] = 'T'\n",
    "\n",
    "# 保存\n",
    "df_Drop.to_csv(dataset, index=False)\n",
    "print(dataset + \" ok!\")"
   ]
  },
  {
   "cell_type": "code",
   "execution_count": null,
   "id": "513f97fa-2f12-408f-b996-948b06a414fd",
   "metadata": {},
   "outputs": [],
   "source": [
    "dataset = \"Masquerade_dataset.csv\"\n",
    "df_Masquerade = df_Spoofing.loc[df_Spoofing[\"Flag\"] == 'R'].copy().reset_index(drop=True)\n",
    "\n",
    "# 伪装攻击\n",
    "new_row = df_Spoofing.loc[(df_Spoofing[\"ID\"] == \"0316\") & (df_Spoofing[\"Flag\"] == 'T')].iloc[0]\n",
    "for i in range(df_Masquerade.shape[0] // 10000):\n",
    "    selected_rows = df_Masquerade.iloc[i * 10000 + 9000 : i * 10000 + 10000]\n",
    "    selected_rows.loc[selected_rows[\"ID\"] == \"0316\", [\"DATA[0]\",\"DATA[1]\",\"DATA[2]\",\"DATA[3]\",\"DATA[4]\",\"DATA[5]\",\"DATA[6]\",\"DATA[7]\"]] = new_row[[\"DATA[0]\",\"DATA[1]\",\"DATA[2]\",\"DATA[3]\",\"DATA[4]\",\"DATA[5]\",\"DATA[6]\",\"DATA[7]\"]].values\n",
    "    selected_rows.loc[selected_rows[\"ID\"] == \"0316\", \"Flag\"] = 'T'\n",
    "\n",
    "# 保存\n",
    "df_Masquerade.to_csv(dataset, index=False)\n",
    "print(dataset + \" ok!\")"
   ]
  },
  {
   "cell_type": "code",
   "execution_count": null,
   "id": "a2b9f323-dc7d-4018-a48d-0c58e6341ec0",
   "metadata": {},
   "outputs": [],
   "source": []
  }
 ],
 "metadata": {
  "kernelspec": {
   "display_name": "Python 3 (ipykernel)",
   "language": "python",
   "name": "python3"
  },
  "language_info": {
   "codemirror_mode": {
    "name": "ipython",
    "version": 3
   },
   "file_extension": ".py",
   "mimetype": "text/x-python",
   "name": "python",
   "nbconvert_exporter": "python",
   "pygments_lexer": "ipython3",
   "version": "3.12.7"
  }
 },
 "nbformat": 4,
 "nbformat_minor": 5
}
