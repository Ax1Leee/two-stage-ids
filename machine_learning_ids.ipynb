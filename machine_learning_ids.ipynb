{
 "cells": [
  {
   "cell_type": "code",
   "execution_count": null,
   "id": "4c3558e9-5f76-4044-9f4e-f6561b0f86e3",
   "metadata": {},
   "outputs": [],
   "source": [
    "import numpy as np\n",
    "import pandas as pd\n",
    "\n",
    "def read_dataset(dataset):\n",
    "    df = pd.read_csv(dataset)\n",
    "\n",
    "    # 将十六进制数据转换为整数\n",
    "    for column in [\"ID\", \"DATA[0]\", \"DATA[1]\", \"DATA[2]\", \"DATA[3]\", \"DATA[4]\", \"DATA[5]\", \"DATA[6]\", \"DATA[7]\"]:\n",
    "        df[column] = df[column].apply(lambda x: int(x, 16))\n",
    "\n",
    "    # 将 Flag 列的值转换为整数\n",
    "    df[\"Flag\"] = df[\"Flag\"].replace({'T': 1, 'R': 0})\n",
    "\n",
    "    print(dataset + \" ok!\")\n",
    "    return df\n",
    "\n",
    "df_DoS = read_dataset(\"new_DoS_dataset.csv\")\n",
    "df_Fuzzy = read_dataset(\"new_Fuzzy_dataset.csv\")\n",
    "df_Spoofing = read_dataset(\"Spoofing_dataset.csv\")\n",
    "df_Replaying = read_dataset(\"Replaying_dataset.csv\")\n",
    "df_Drop = read_dataset(\"Drop_dataset.csv\")\n",
    "df_Masquerade = read_dataset(\"Masquerade_dataset.csv\")"
   ]
  },
  {
   "cell_type": "code",
   "execution_count": null,
   "id": "876d5de1-d7aa-4fcf-b005-fca4d0b8f910",
   "metadata": {},
   "outputs": [],
   "source": [
    "df_DoS_train = df_DoS.iloc[0 : round(df_DoS.shape[0] * 0.5)]\n",
    "df_DoS_test = df_DoS.iloc[round(df_DoS.shape[0] * 0.5) : df_DoS.shape[0]]\n",
    "\n",
    "df_Fuzzy_train = df_Fuzzy.iloc[0 : round(df_Fuzzy.shape[0] * 0.5)]\n",
    "df_Fuzzy_test = df_Fuzzy.iloc[round(df_Fuzzy.shape[0] * 0.5) : df_Fuzzy.shape[0]]\n",
    "\n",
    "df_Spoofing_train = df_Spoofing.iloc[0 : round(df_Spoofing.shape[0] * 0.5)]\n",
    "df_Spoofing_test = df_Spoofing.iloc[round(df_Spoofing.shape[0] * 0.5) : df_Spoofing.shape[0]]\n",
    "\n",
    "df_Masquerade_train = df_Masquerade.iloc[0 : round(df_Masquerade.shape[0] * 0.5)]\n",
    "df_Masquerade_test = df_Masquerade.iloc[round(df_Masquerade.shape[0] * 0.5) : df_Masquerade.shape[0]]"
   ]
  },
  {
   "cell_type": "code",
   "execution_count": null,
   "id": "5beb7bd3-3110-499c-b240-8a31d466f04c",
   "metadata": {},
   "outputs": [],
   "source": [
    "df_Attack_train = pd.concat([df_DoS_train, df_Fuzzy_train, df_Spoofing_train, df_Masquerade_train])\n",
    "X_train = df_Attack_train[[\"ID\", \"DATA[0]\", \"DATA[1]\", \"DATA[2]\", \"DATA[3]\", \"DATA[4]\", \"DATA[5]\", \"DATA[6]\", \"DATA[7]\"]]\n",
    "y_train = df_Attack_train[\"Flag\"]\n",
    "\n",
    "X_test_DoS = df_DoS_test[[\"ID\", \"DATA[0]\", \"DATA[1]\", \"DATA[2]\", \"DATA[3]\", \"DATA[4]\", \"DATA[5]\", \"DATA[6]\", \"DATA[7]\"]]\n",
    "y_test_DoS = df_DoS_test[\"Flag\"]\n",
    "\n",
    "X_test_Fuzzy = df_Fuzzy_test[[\"ID\", \"DATA[0]\", \"DATA[1]\", \"DATA[2]\", \"DATA[3]\", \"DATA[4]\", \"DATA[5]\", \"DATA[6]\", \"DATA[7]\"]]\n",
    "y_test_Fuzzy = df_Fuzzy_test[\"Flag\"]\n",
    "\n",
    "X_test_Spoofing = df_Spoofing_test[[\"ID\", \"DATA[0]\", \"DATA[1]\", \"DATA[2]\", \"DATA[3]\", \"DATA[4]\", \"DATA[5]\", \"DATA[6]\", \"DATA[7]\"]]\n",
    "y_test_Spoofing = df_Spoofing_test[\"Flag\"]\n",
    "\n",
    "X_test_Replaying = df_Replaying[[\"ID\", \"DATA[0]\", \"DATA[1]\", \"DATA[2]\", \"DATA[3]\", \"DATA[4]\", \"DATA[5]\", \"DATA[6]\", \"DATA[7]\"]]\n",
    "y_test_Replaying = df_Replaying[\"Flag\"]\n",
    "\n",
    "X_test_Drop = df_Drop[[\"ID\", \"DATA[0]\", \"DATA[1]\", \"DATA[2]\", \"DATA[3]\", \"DATA[4]\", \"DATA[5]\", \"DATA[6]\", \"DATA[7]\"]]\n",
    "y_test_Drop = df_Drop[\"Flag\"]\n",
    "\n",
    "X_test_Masquerade = df_Masquerade_test[[\"ID\", \"DATA[0]\", \"DATA[1]\", \"DATA[2]\", \"DATA[3]\", \"DATA[4]\", \"DATA[5]\", \"DATA[6]\", \"DATA[7]\"]]\n",
    "y_test_Masquerade = df_Masquerade_test[\"Flag\"]"
   ]
  },
  {
   "cell_type": "code",
   "execution_count": null,
   "id": "bcef4e1c-ff65-4793-9a81-709dc48b22f6",
   "metadata": {},
   "outputs": [],
   "source": [
    "from sklearn.tree import DecisionTreeClassifier\n",
    "import joblib\n",
    "from sklearn.metrics import confusion_matrix"
   ]
  },
  {
   "cell_type": "code",
   "execution_count": null,
   "id": "7e71eedf-5ef8-47cf-acec-bcf43f739de1",
   "metadata": {},
   "outputs": [],
   "source": [
    "# 创建并训练决策树模型\n",
    "dt_model = DecisionTreeClassifier(random_state=52)\n",
    "dt_model.fit(X_train, y_train)\n",
    "\n",
    "joblib.dump(dt_model, 'dt_model.pkl')"
   ]
  },
  {
   "cell_type": "code",
   "execution_count": null,
   "id": "4f23fdf4-f486-47fa-9732-9507ce33b304",
   "metadata": {},
   "outputs": [],
   "source": [
    "# 在测试集上进行预测\n",
    "y_pred_DoS = dt_model.predict(X_test_DoS)\n",
    "y_pred_Fuzzy = dt_model.predict(X_test_Fuzzy)\n",
    "y_pred_Spoofing = dt_model.predict(X_test_Spoofing)\n",
    "y_pred_Replaying = dt_model.predict(X_test_Replaying)\n",
    "y_pred_Drop = dt_model.predict(X_test_Drop)\n",
    "for i in range(len(y_test_Drop)):\n",
    "    if y_test_Drop.iloc[i] == 1:\n",
    "        y_pred_Drop[i] == 0\n",
    "y_pred_Masquerade = dt_model.predict(X_test_Masquerade)"
   ]
  },
  {
   "cell_type": "code",
   "execution_count": null,
   "id": "0b28e798-1460-4fdf-bfbf-d8312bd9dfa3",
   "metadata": {},
   "outputs": [],
   "source": [
    "attack_types = [\"DoS Attack\", \"Fuzzy Attack\", \"Spoofing Attack\", \"Replay Attack\", \"Drop Attack\", \"Masquerade Attack\"]\n",
    "y_tests = [y_test_DoS, y_test_Fuzzy, y_test_Spoofing, y_test_Replaying, y_test_Drop, y_test_Masquerade]\n",
    "y_preds = [y_pred_DoS, y_pred_Fuzzy, y_pred_Spoofing, y_pred_Replaying, y_pred_Drop, y_pred_Masquerade]\n",
    "\n",
    "for attack_type, y_test, y_pred in zip(attack_types, y_tests, y_preds):\n",
    "    print(attack_type + \": \")\n",
    "    \n",
    "    # 假设y_test是真实标签，y_pred是模型预测的标签\n",
    "    conf_matrix = confusion_matrix(y_test, y_pred)\n",
    "    TN, FP, FN, TP = conf_matrix.ravel()\n",
    "    \n",
    "    # 计算准确率\n",
    "    accuracy = (TP + TN) / (TP + TN + FP + FN)\n",
    "    \n",
    "    # 计算真正率（召回率）\n",
    "    TPR = TP / (TP + FN)\n",
    "    \n",
    "    # 计算假正率\n",
    "    FPR = FP / (FP + TN)\n",
    "\n",
    "    print(\"accuracy = \" + str(accuracy))\n",
    "    print(\"TPR = \" + str(TPR))\n",
    "    print(\"FPR = \" + str(FPR) + '\\n')"
   ]
  },
  {
   "cell_type": "code",
   "execution_count": null,
   "id": "33b1d165-51a9-496e-827c-ad36b9146e1e",
   "metadata": {},
   "outputs": [],
   "source": []
  }
 ],
 "metadata": {
  "kernelspec": {
   "display_name": "Python 3 (ipykernel)",
   "language": "python",
   "name": "python3"
  },
  "language_info": {
   "codemirror_mode": {
    "name": "ipython",
    "version": 3
   },
   "file_extension": ".py",
   "mimetype": "text/x-python",
   "name": "python",
   "nbconvert_exporter": "python",
   "pygments_lexer": "ipython3",
   "version": "3.12.7"
  }
 },
 "nbformat": 4,
 "nbformat_minor": 5
}
