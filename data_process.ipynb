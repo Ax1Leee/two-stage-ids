{
 "cells": [
  {
   "cell_type": "code",
   "execution_count": null,
   "id": "dbd9098d-836b-4b8b-980d-5991720edc15",
   "metadata": {},
   "outputs": [],
   "source": [
    "import pandas as pd\n",
    "\n",
    "# 读取文本文件，将每行数据拆分为多个列\n",
    "with open(\"normal_run_data.txt\", 'r') as file:\n",
    "    lines = file.readlines()\n",
    "    timestamp_list = []\n",
    "    id_list = []\n",
    "    dlc_list = []\n",
    "    for line in lines:\n",
    "        parts = line.strip().split()  # 以空格分隔每个部分\n",
    "        timestamp_list.append(float(parts[1]))\n",
    "        id_list.append(parts[3])\n",
    "        dlc_list.append(int(parts[6]))"
   ]
  },
  {
   "cell_type": "code",
   "execution_count": null,
   "id": "5662c19d-c67c-494c-b6f7-27ed389e60d8",
   "metadata": {},
   "outputs": [],
   "source": [
    "rules = []\n",
    "for i in range(len(id_list)):\n",
    "    if id_list[i] not in [row[0] for row in rules]:\n",
    "        rules.append([id_list[i], dlc_list[i]])"
   ]
  },
  {
   "cell_type": "code",
   "execution_count": null,
   "id": "2bdff180-fd6d-446e-9f25-a527e80e3f3a",
   "metadata": {},
   "outputs": [],
   "source": [
    "import numpy as np\n",
    "\n",
    "for i in range(len(rules)):\n",
    "    if rules[i][0] == '02b0' or rules[i][0] == '05f0':\n",
    "        rules[i].append(0)\n",
    "        rules[i].append(0)\n",
    "        continue\n",
    "    \n",
    "    timestamp = 0\n",
    "    time_intervals = []\n",
    "    for j in range(len(id_list)):\n",
    "        if id_list[j] == rules[i][0]:\n",
    "            if timestamp == 0:\n",
    "                timestamp = timestamp_list[j]\n",
    "            else:\n",
    "                time_intervals.append(timestamp_list[j] - timestamp)\n",
    "                timestamp = timestamp_list[j]\n",
    "    \n",
    "    # 计算列表的均值\n",
    "    mean = np.mean(time_intervals)\n",
    "    # 计算列表的标准差\n",
    "    std = np.std(time_intervals)\n",
    "    # 计算变异系数\n",
    "    coefficient_of_variation = (std / mean) * 100\n",
    "    \n",
    "    if coefficient_of_variation > 20: # 非周期性消息\n",
    "        rules[i].append(0)\n",
    "    else: # 周期性消息\n",
    "        rules[i].append(mean)"
   ]
  },
  {
   "cell_type": "code",
   "execution_count": null,
   "id": "b1f10c9d-47e0-4584-87aa-14f99584c2cb",
   "metadata": {},
   "outputs": [],
   "source": [
    "rules_id = [row[0] for row in rules]\n",
    "rules_dlc = [row[1] for row in rules]\n",
    "rules_mean = [row[2] for row in rules]"
   ]
  },
  {
   "cell_type": "code",
   "execution_count": null,
   "id": "59ff664d-8d83-404e-8c32-62ac8e37c312",
   "metadata": {},
   "outputs": [],
   "source": [
    "def read_dataset(dataset):\n",
    "    df = pd.read_csv(dataset)\n",
    "\n",
    "    # 重新命名列\n",
    "    df.columns = [\"Timestamp\", \"ID\", \"DLC\", \"DATA[0]\",\"DATA[1]\",\"DATA[2]\",\"DATA[3]\",\"DATA[4]\",\"DATA[5]\",\"DATA[6]\",\"DATA[7]\",\"Flag\"]\n",
    "\n",
    "    # 设置 Flag 列的值\n",
    "    df[\"Flag\"] = df.apply(lambda row: row[\"Flag\"] if row[\"DLC\"] == 8 else row[f\"DATA[{row['DLC']}]\"], axis=1)\n",
    "\n",
    "    # 设置 DATA 列的值\n",
    "    for i in range(8):\n",
    "        df[f\"DATA[{i}]\"] = df.apply(lambda row: row[f\"DATA[{i}]\"] if row[\"DLC\"] > i else \"00\", axis=1)\n",
    "\n",
    "    print(dataset + \" ok!\")\n",
    "    return df\n",
    "\n",
    "df_DoS = read_dataset(\"DoS_dataset.csv\")\n",
    "df_Fuzzy = read_dataset(\"Fuzzy_dataset.csv\")\n",
    "df_RPM = read_dataset(\"RPM_dataset.csv\")"
   ]
  },
  {
   "cell_type": "code",
   "execution_count": null,
   "id": "f6e37c28-692b-4ead-aa12-9e3c5e820e36",
   "metadata": {},
   "outputs": [],
   "source": [
    "def process_dataset(df, dataset):\n",
    "    data_list = df.head(2000000).values.tolist()\n",
    "    \n",
    "    for i in range(len(rules_id)):\n",
    "        # 非周期性消息\n",
    "        if rules_mean[i] == 0:\n",
    "            continue\n",
    "\n",
    "        # 处理缺失值\n",
    "        count = len(data_list)\n",
    "        timestamp = 0\n",
    "        for j in range(count):\n",
    "            if data_list[j][1] == rules_id[i] and data_list[j][11] == 'R':\n",
    "                if timestamp == 0:\n",
    "                    timestamp = data_list[j][0]\n",
    "                else:\n",
    "                    time_interval = data_list[j][0] - timestamp\n",
    "                    if round(time_interval / rules_mean[i]) > 1:\n",
    "                        for k in range(1, round(time_interval / rules_mean[i])):\n",
    "                            row = data_list[j].copy()\n",
    "                            row[0] = row[0] - k * rules_mean[i]\n",
    "                            data_list.append(row)\n",
    "                    timestamp = data_list[j][0]\n",
    "                    \n",
    "    new_df = pd.DataFrame(data_list, columns=[\"Timestamp\", \"ID\", \"DLC\", \"DATA[0]\",\"DATA[1]\",\"DATA[2]\",\"DATA[3]\",\"DATA[4]\",\"DATA[5]\",\"DATA[6]\",\"DATA[7]\",\"Flag\"])\n",
    "    new_df = new_df.sort_values(by=\"Timestamp\")\n",
    "    new_df.to_csv(dataset, index=False)\n",
    "    print(dataset + \" ok!\")\n",
    "\n",
    "process_dataset(df_DoS, \"new_DoS_dataset.csv\")\n",
    "process_dataset(df_Fuzzy, \"new_Fuzzy_dataset.csv\")\n",
    "process_dataset(df_RPM, \"Spoofing_dataset.csv\")"
   ]
  },
  {
   "cell_type": "code",
   "execution_count": null,
   "id": "7acfb5a0-624d-4909-8aff-ab58dd5f39a4",
   "metadata": {},
   "outputs": [],
   "source": []
  }
 ],
 "metadata": {
  "kernelspec": {
   "display_name": "Python 3 (ipykernel)",
   "language": "python",
   "name": "python3"
  },
  "language_info": {
   "codemirror_mode": {
    "name": "ipython",
    "version": 3
   },
   "file_extension": ".py",
   "mimetype": "text/x-python",
   "name": "python",
   "nbconvert_exporter": "python",
   "pygments_lexer": "ipython3",
   "version": "3.12.7"
  }
 },
 "nbformat": 4,
 "nbformat_minor": 5
}
